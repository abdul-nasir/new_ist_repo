{
 "cells": [
  {
   "cell_type": "markdown",
   "id": "65ed277b",
   "metadata": {},
   "source": [
    "## - Body_Mass_indexing\n",
    "- you need to imput your height\n",
    "- you need to input your weight\n",
    "- you need to input you name\n",
    "- using formula BMI=weight/height**2\n",
    "- print at-last the BMI values"
   ]
  },
  {
   "cell_type": "code",
   "execution_count": 1,
   "id": "b71cce40",
   "metadata": {},
   "outputs": [
    {
     "name": "stdout",
     "output_type": "stream",
     "text": [
      "what is your height1.74\n"
     ]
    }
   ],
   "source": [
    "height=input(\"what is your height\")"
   ]
  },
  {
   "cell_type": "code",
   "execution_count": 2,
   "id": "9dd7bb75",
   "metadata": {},
   "outputs": [],
   "source": [
    "height=float(height)"
   ]
  },
  {
   "cell_type": "code",
   "execution_count": 3,
   "id": "e09ec151",
   "metadata": {},
   "outputs": [
    {
     "name": "stdout",
     "output_type": "stream",
     "text": [
      "what is your wight90\n"
     ]
    }
   ],
   "source": [
    "weight=input(\"what is your wight\")"
   ]
  },
  {
   "cell_type": "code",
   "execution_count": 4,
   "id": "ed1419fa",
   "metadata": {},
   "outputs": [],
   "source": [
    "weight=float(weight)"
   ]
  },
  {
   "cell_type": "code",
   "execution_count": 5,
   "id": "848ae9dd",
   "metadata": {},
   "outputs": [
    {
     "name": "stdout",
     "output_type": "stream",
     "text": [
      "what is your name? nasir\n"
     ]
    }
   ],
   "source": [
    "name=input(\"what is your name? \")"
   ]
  },
  {
   "cell_type": "code",
   "execution_count": 6,
   "id": "5a2b47f7",
   "metadata": {},
   "outputs": [
    {
     "data": {
      "text/plain": [
       "29.72651605231867"
      ]
     },
     "execution_count": 6,
     "metadata": {},
     "output_type": "execute_result"
    }
   ],
   "source": [
    "BMI=weight/height**2\n",
    "BMI"
   ]
  },
  {
   "cell_type": "code",
   "execution_count": 11,
   "id": "cc4c2c1b",
   "metadata": {},
   "outputs": [
    {
     "name": "stdout",
     "output_type": "stream",
     "text": [
      "my name is nasir and BMI is 29.72651605231867\n"
     ]
    }
   ],
   "source": [
    "print(\"my name is\",name,\"and BMI is\",BMI)"
   ]
  },
  {
   "cell_type": "code",
   "execution_count": null,
   "id": "220e80ca",
   "metadata": {},
   "outputs": [],
   "source": []
  }
 ],
 "metadata": {
  "kernelspec": {
   "display_name": "Python 3 (ipykernel)",
   "language": "python",
   "name": "python3"
  },
  "language_info": {
   "codemirror_mode": {
    "name": "ipython",
    "version": 3
   },
   "file_extension": ".py",
   "mimetype": "text/x-python",
   "name": "python",
   "nbconvert_exporter": "python",
   "pygments_lexer": "ipython3",
   "version": "3.9.7"
  }
 },
 "nbformat": 4,
 "nbformat_minor": 5
}
