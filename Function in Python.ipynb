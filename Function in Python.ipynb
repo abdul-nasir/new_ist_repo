{
 "cells": [
  {
   "cell_type": "markdown",
   "id": "ca9dc7fa",
   "metadata": {},
   "source": [
    "# user define function in python"
   ]
  },
  {
   "cell_type": "code",
   "execution_count": 4,
   "id": "3dbe3e3f",
   "metadata": {},
   "outputs": [
    {
     "name": "stdout",
     "output_type": "stream",
     "text": [
      "10\n",
      "9\n",
      "3.0\n",
      "10\n",
      "Hello Nasir Jani\n",
      "Hello Huma\n",
      "Hello Junaid\n"
     ]
    }
   ],
   "source": [
    "def sum(x,y):\n",
    "    print(x+y) # Arithmetic operator +\n",
    "    \n",
    "sum(4,6) # argument 4,6\n",
    "\n",
    "def mul(x,y):\n",
    "    print(x*y)\n",
    "mul(3,3)\n",
    "\n",
    "def div(x,y):\n",
    "    print(x/y)\n",
    "div(30,10)\n",
    "\n",
    "def sub(x,y):\n",
    "    print(x-y)\n",
    "sub(20,10)\n",
    "\n",
    "def student_names(names=\"Nasir Jani\"):\n",
    "    print(\"Hello \"+names)\n",
    "\n",
    "student_names();\n",
    "student_names(\"Huma\")\n",
    "student_names(\"Junaid\")"
   ]
  },
  {
   "cell_type": "code",
   "execution_count": null,
   "id": "fcd741cf",
   "metadata": {},
   "outputs": [],
   "source": []
  }
 ],
 "metadata": {
  "kernelspec": {
   "display_name": "Python 3 (ipykernel)",
   "language": "python",
   "name": "python3"
  },
  "language_info": {
   "codemirror_mode": {
    "name": "ipython",
    "version": 3
   },
   "file_extension": ".py",
   "mimetype": "text/x-python",
   "name": "python",
   "nbconvert_exporter": "python",
   "pygments_lexer": "ipython3",
   "version": "3.9.7"
  }
 },
 "nbformat": 4,
 "nbformat_minor": 5
}
