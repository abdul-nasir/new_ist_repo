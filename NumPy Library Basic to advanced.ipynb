{
 "cells": [
  {
   "cell_type": "markdown",
   "id": "444eef1c",
   "metadata": {},
   "source": [
    "## import numpy library"
   ]
  },
  {
   "cell_type": "code",
   "execution_count": null,
   "id": "3f464c99",
   "metadata": {},
   "outputs": [],
   "source": [
    "import numpy as np"
   ]
  },
  {
   "cell_type": "markdown",
   "id": "3008d2c4",
   "metadata": {},
   "source": [
    "## create arrays using bultin np alias of numpy"
   ]
  },
  {
   "cell_type": "code",
   "execution_count": null,
   "id": "f9a8e9b0",
   "metadata": {},
   "outputs": [],
   "source": [
    "arr_1d =np.array([2,3,4,5,6])\n",
    "# print one dimenisional arrays store in arr_1d\n",
    "print(arr_1d)"
   ]
  },
  {
   "cell_type": "markdown",
   "id": "334bca8e",
   "metadata": {},
   "source": [
    "# now find type of one 1deminsional array"
   ]
  },
  {
   "cell_type": "code",
   "execution_count": 5,
   "id": "d2b75f7e",
   "metadata": {},
   "outputs": [
    {
     "data": {
      "text/plain": [
       "numpy.ndarray"
      ]
     },
     "execution_count": 5,
     "metadata": {},
     "output_type": "execute_result"
    }
   ],
   "source": [
    "type(arr_1d)"
   ]
  },
  {
   "cell_type": "markdown",
   "id": "5cf75377",
   "metadata": {},
   "source": [
    "## now dimesnioan of arrays"
   ]
  },
  {
   "cell_type": "code",
   "execution_count": 8,
   "id": "11e1931e",
   "metadata": {},
   "outputs": [
    {
     "data": {
      "text/plain": [
       "1"
      ]
     },
     "execution_count": 8,
     "metadata": {},
     "output_type": "execute_result"
    }
   ],
   "source": [
    "arr_1d.ndim"
   ]
  },
  {
   "cell_type": "markdown",
   "id": "e1929e77",
   "metadata": {},
   "source": [
    "## two dimensional arrays using np alias"
   ]
  },
  {
   "cell_type": "code",
   "execution_count": 9,
   "id": "c1842b43",
   "metadata": {},
   "outputs": [
    {
     "name": "stdout",
     "output_type": "stream",
     "text": [
      "[[1 2 3 4 5]\n",
      " [5 4 3 2 1]]\n"
     ]
    }
   ],
   "source": [
    "arr_2d= np.array([[1,2,3,4,5],[5,4,3,2,1]])\n",
    "print(arr_2d)"
   ]
  },
  {
   "cell_type": "markdown",
   "id": "3c3e2c4a",
   "metadata": {},
   "source": [
    "## find dimension of above 2d arrays"
   ]
  },
  {
   "cell_type": "code",
   "execution_count": 11,
   "id": "654a42be",
   "metadata": {},
   "outputs": [
    {
     "data": {
      "text/plain": [
       "2"
      ]
     },
     "execution_count": 11,
     "metadata": {},
     "output_type": "execute_result"
    }
   ],
   "source": [
    "arr_2d.ndim"
   ]
  },
  {
   "cell_type": "markdown",
   "id": "8b9c8a67",
   "metadata": {},
   "source": [
    "## size of the above 2d arrays"
   ]
  },
  {
   "cell_type": "code",
   "execution_count": 14,
   "id": "7f274567",
   "metadata": {},
   "outputs": [
    {
     "data": {
      "text/plain": [
       "10"
      ]
     },
     "execution_count": 14,
     "metadata": {},
     "output_type": "execute_result"
    }
   ],
   "source": [
    "arr_2d.size"
   ]
  },
  {
   "cell_type": "markdown",
   "id": "aeba6619",
   "metadata": {},
   "source": [
    "## shape of 2d arrays"
   ]
  },
  {
   "cell_type": "code",
   "execution_count": 15,
   "id": "ec1f811d",
   "metadata": {},
   "outputs": [
    {
     "data": {
      "text/plain": [
       "(2, 5)"
      ]
     },
     "execution_count": 15,
     "metadata": {},
     "output_type": "execute_result"
    }
   ],
   "source": [
    "arr_2d.shape"
   ]
  },
  {
   "cell_type": "markdown",
   "id": "b88c0843",
   "metadata": {},
   "source": [
    "## now type ,mean data type of arrays"
   ]
  },
  {
   "cell_type": "code",
   "execution_count": 16,
   "id": "9b419b02",
   "metadata": {},
   "outputs": [
    {
     "data": {
      "text/plain": [
       "dtype('int32')"
      ]
     },
     "execution_count": 16,
     "metadata": {},
     "output_type": "execute_result"
    }
   ],
   "source": [
    "arr_2d.dtype"
   ]
  },
  {
   "cell_type": "code",
   "execution_count": 17,
   "id": "f721b83f",
   "metadata": {},
   "outputs": [
    {
     "data": {
      "text/plain": [
       "array([[1, 2, 3, 4, 5],\n",
       "       [5, 4, 3, 2, 1]])"
      ]
     },
     "execution_count": 17,
     "metadata": {},
     "output_type": "execute_result"
    }
   ],
   "source": [
    "arr_2d"
   ]
  },
  {
   "cell_type": "markdown",
   "id": "4a49c5cb",
   "metadata": {},
   "source": [
    "## M_D Arrays"
   ]
  },
  {
   "cell_type": "code",
   "execution_count": 20,
   "id": "bb6f62e6",
   "metadata": {},
   "outputs": [
    {
     "name": "stdout",
     "output_type": "stream",
     "text": [
      "[[1 1 1]\n",
      " [1 1 1]\n",
      " [1 1 1]]\n"
     ]
    }
   ],
   "source": [
    "mx_one= np.array(\n",
    "    [[1,1,1],[1,1,1],[1,1,1]])\n",
    "print(mx_one)"
   ]
  },
  {
   "cell_type": "markdown",
   "id": "6c523ed0",
   "metadata": {},
   "source": [
    "## one filled arrays"
   ]
  },
  {
   "cell_type": "code",
   "execution_count": 23,
   "id": "c4492383",
   "metadata": {},
   "outputs": [],
   "source": [
    "ones_filled_arr= np.ones( 5)"
   ]
  },
  {
   "cell_type": "markdown",
   "id": "18aa4e1b",
   "metadata": {},
   "source": [
    "print(ones_filled_arr)"
   ]
  },
  {
   "cell_type": "code",
   "execution_count": 25,
   "id": "122f4ef3",
   "metadata": {},
   "outputs": [
    {
     "data": {
      "text/plain": [
       "dtype('float64')"
      ]
     },
     "execution_count": 25,
     "metadata": {},
     "output_type": "execute_result"
    }
   ],
   "source": [
    "ones_filled_arr.dtype\n"
   ]
  },
  {
   "cell_type": "code",
   "execution_count": 26,
   "id": "4906b8d5",
   "metadata": {},
   "outputs": [
    {
     "name": "stdout",
     "output_type": "stream",
     "text": [
      "[[1. 1. 1. 1.]\n",
      " [1. 1. 1. 1.]\n",
      " [1. 1. 1. 1.]]\n"
     ]
    }
   ],
   "source": [
    "#one filled customized arrays\n",
    "ones_fill=np.ones((3,4))\n",
    "print(ones_fill)"
   ]
  },
  {
   "cell_type": "code",
   "execution_count": 27,
   "id": "0b26caed",
   "metadata": {},
   "outputs": [
    {
     "name": "stdout",
     "output_type": "stream",
     "text": [
      "[[1 1 1 1]\n",
      " [1 1 1 1]\n",
      " [1 1 1 1]]\n"
     ]
    }
   ],
   "source": [
    "mx_1s= np.ones((3,4), dtype=int)\n",
    "print(mx_1s)"
   ]
  },
  {
   "cell_type": "markdown",
   "id": "4d0e9301",
   "metadata": {},
   "source": [
    "## Zero filled customized arrays"
   ]
  },
  {
   "cell_type": "code",
   "execution_count": 28,
   "id": "c488b6d7",
   "metadata": {},
   "outputs": [
    {
     "name": "stdout",
     "output_type": "stream",
     "text": [
      "[[0. 0. 0. 0.]\n",
      " [0. 0. 0. 0.]\n",
      " [0. 0. 0. 0.]]\n"
     ]
    }
   ],
   "source": [
    "mx_0s= np.zeros((3,4))\n",
    "print(mx_0s)"
   ]
  },
  {
   "cell_type": "code",
   "execution_count": 29,
   "id": "d0fef018",
   "metadata": {},
   "outputs": [
    {
     "name": "stdout",
     "output_type": "stream",
     "text": [
      "[[0 0 0 0]\n",
      " [0 0 0 0]\n",
      " [0 0 0 0]]\n"
     ]
    }
   ],
   "source": [
    "mx_0s= np.zeros((3,4), dtype= int)\n",
    "print(mx_0s)"
   ]
  },
  {
   "cell_type": "markdown",
   "id": "5ef7fd96",
   "metadata": {},
   "source": [
    "## zero filled with label false using numpy library"
   ]
  },
  {
   "cell_type": "code",
   "execution_count": 30,
   "id": "5b207feb",
   "metadata": {},
   "outputs": [
    {
     "name": "stdout",
     "output_type": "stream",
     "text": [
      "[[False False False False]\n",
      " [False False False False]\n",
      " [False False False False]]\n"
     ]
    }
   ],
   "source": [
    "mx_0s= np.zeros((3,4), dtype= bool)\n",
    "print(mx_0s)"
   ]
  },
  {
   "cell_type": "markdown",
   "id": "d441066a",
   "metadata": {},
   "source": [
    "## One filled with label true using numpy library"
   ]
  },
  {
   "cell_type": "code",
   "execution_count": 32,
   "id": "dcacca97",
   "metadata": {},
   "outputs": [
    {
     "name": "stdout",
     "output_type": "stream",
     "text": [
      "[[ True  True  True  True]\n",
      " [ True  True  True  True]\n",
      " [ True  True  True  True]]\n"
     ]
    }
   ],
   "source": [
    "mx_ones= np.ones((3,4), dtype= bool)\n",
    "print(mx_ones)"
   ]
  },
  {
   "cell_type": "markdown",
   "id": "22950426",
   "metadata": {},
   "source": [
    "## Special empty string filled 2d arrays"
   ]
  },
  {
   "cell_type": "code",
   "execution_count": 34,
   "id": "4a10d19a",
   "metadata": {},
   "outputs": [
    {
     "name": "stdout",
     "output_type": "stream",
     "text": [
      "[['' '' '' '']\n",
      " ['' '' '' '']\n",
      " ['' '' '' '']]\n"
     ]
    }
   ],
   "source": [
    "mx_str= np.zeros((3,4), dtype= str)\n",
    "print(mx_str)"
   ]
  },
  {
   "cell_type": "markdown",
   "id": "58292d24",
   "metadata": {},
   "source": [
    "## Special one string filled 2d arrays"
   ]
  },
  {
   "cell_type": "code",
   "execution_count": 36,
   "id": "d334f3ac",
   "metadata": {},
   "outputs": [
    {
     "name": "stdout",
     "output_type": "stream",
     "text": [
      "[['1' '1' '1' '1']\n",
      " ['1' '1' '1' '1']\n",
      " ['1' '1' '1' '1']]\n"
     ]
    }
   ],
   "source": [
    "mx_str_one= np.ones((3,4), dtype= str)\n",
    "print(mx_str_one)"
   ]
  },
  {
   "cell_type": "code",
   "execution_count": null,
   "id": "4939be4a",
   "metadata": {},
   "outputs": [],
   "source": [
    "## creating empty matrics"
   ]
  },
  {
   "cell_type": "code",
   "execution_count": 37,
   "id": "89a58a7f",
   "metadata": {},
   "outputs": [
    {
     "name": "stdout",
     "output_type": "stream",
     "text": [
      "[[0.00000000e+000 0.00000000e+000 0.00000000e+000]\n",
      " [0.00000000e+000 0.00000000e+000 6.40309077e-321]\n",
      " [5.26254956e-312 5.26254956e-312 7.56599807e-307]]\n"
     ]
    }
   ],
   "source": [
    "em_mx= np.empty((3,3))\n",
    "print(em_mx)"
   ]
  },
  {
   "cell_type": "markdown",
   "id": "51b9a77b",
   "metadata": {},
   "source": [
    "## Other NumPy Function"
   ]
  },
  {
   "cell_type": "code",
   "execution_count": null,
   "id": "76d4fbb3",
   "metadata": {},
   "outputs": [],
   "source": [
    "import numpy as np"
   ]
  },
  {
   "cell_type": "markdown",
   "id": "f8489e1b",
   "metadata": {},
   "source": [
    "## arange() function in numpy library"
   ]
  },
  {
   "cell_type": "code",
   "execution_count": 39,
   "id": "8fe54e84",
   "metadata": {},
   "outputs": [
    {
     "name": "stdout",
     "output_type": "stream",
     "text": [
      "[ 1  2  3  4  5  6  7  8  9 10 11 12]\n"
     ]
    }
   ],
   "source": [
    "#np.arrage(start,end,step)\n",
    "arr_1dim= np.arange(1,13)\n",
    "print(arr_1dim)"
   ]
  },
  {
   "cell_type": "code",
   "execution_count": 41,
   "id": "4c73344f",
   "metadata": {},
   "outputs": [
    {
     "name": "stdout",
     "output_type": "stream",
     "text": [
      "[ 1  3  5  7  9 11]\n"
     ]
    }
   ],
   "source": [
    "even_arr=np.arange(1,13,2)\n",
    "print(even_arr)"
   ]
  },
  {
   "cell_type": "markdown",
   "id": "236cbc3a",
   "metadata": {},
   "source": [
    "## linspace() function of numpy array"
   ]
  },
  {
   "cell_type": "code",
   "execution_count": 42,
   "id": "83ef5145",
   "metadata": {},
   "outputs": [
    {
     "data": {
      "text/plain": [
       "array([1.        , 2.33333333, 3.66666667, 5.        ])"
      ]
     },
     "execution_count": 42,
     "metadata": {},
     "output_type": "execute_result"
    }
   ],
   "source": [
    "np.linspace(1,5,4)"
   ]
  },
  {
   "cell_type": "markdown",
   "id": "a40407be",
   "metadata": {},
   "source": [
    "## reshape() functiom of numpy array"
   ]
  },
  {
   "cell_type": "code",
   "execution_count": 46,
   "id": "9054f8f2",
   "metadata": {},
   "outputs": [
    {
     "name": "stdout",
     "output_type": "stream",
     "text": [
      "[[ 1  2  3  4]\n",
      " [ 5  6  7  8]\n",
      " [ 9 10 11 12]]\n"
     ]
    }
   ],
   "source": [
    "arr_2dim= arr_1dim.reshape(3,4)\n",
    "print(arr_2dim)"
   ]
  },
  {
   "cell_type": "markdown",
   "id": "b3bdd905",
   "metadata": {},
   "source": [
    "## 3d array from two d using reshape function"
   ]
  },
  {
   "cell_type": "code",
   "execution_count": 48,
   "id": "e934c040",
   "metadata": {},
   "outputs": [
    {
     "name": "stdout",
     "output_type": "stream",
     "text": [
      "[[[ 1  2]\n",
      "  [ 3  4]\n",
      "  [ 5  6]]\n",
      "\n",
      " [[ 7  8]\n",
      "  [ 9 10]\n",
      "  [11 12]]]\n"
     ]
    }
   ],
   "source": [
    "arr_3dim= arr_1dim.reshape(2,3,2)\n",
    "print(arr_3dim)"
   ]
  },
  {
   "cell_type": "code",
   "execution_count": 49,
   "id": "927b4df1",
   "metadata": {},
   "outputs": [
    {
     "name": "stdout",
     "output_type": "stream",
     "text": [
      "[[ 1  2  3  4  5  6]\n",
      " [ 7  8  9 10 11 12]]\n"
     ]
    }
   ],
   "source": [
    "arrayss=np.arange(1,13).reshape(2,6)\n",
    "print(arrayss)"
   ]
  },
  {
   "cell_type": "markdown",
   "id": "51f69d44",
   "metadata": {},
   "source": [
    "## revel() function of numpy library"
   ]
  },
  {
   "cell_type": "code",
   "execution_count": 53,
   "id": "b7daee92",
   "metadata": {},
   "outputs": [
    {
     "data": {
      "text/plain": [
       "array([ 1,  2,  3,  4,  5,  6,  7,  8,  9, 10, 11, 12])"
      ]
     },
     "execution_count": 53,
     "metadata": {},
     "output_type": "execute_result"
    }
   ],
   "source": [
    "arrayss.ravel()"
   ]
  },
  {
   "cell_type": "markdown",
   "id": "bf9cae33",
   "metadata": {},
   "source": [
    "## flatten() function of numpy library"
   ]
  },
  {
   "cell_type": "code",
   "execution_count": 52,
   "id": "47f36a16",
   "metadata": {},
   "outputs": [
    {
     "data": {
      "text/plain": [
       "array([ 1,  2,  3,  4,  5,  6,  7,  8,  9, 10, 11, 12])"
      ]
     },
     "execution_count": 52,
     "metadata": {},
     "output_type": "execute_result"
    }
   ],
   "source": [
    "arrayss.flatten()"
   ]
  },
  {
   "cell_type": "markdown",
   "id": "771df7da",
   "metadata": {},
   "source": [
    "## tranpose() function of numpy library"
   ]
  },
  {
   "cell_type": "code",
   "execution_count": 54,
   "id": "4f82a825",
   "metadata": {},
   "outputs": [
    {
     "data": {
      "text/plain": [
       "array([[ 1,  7],\n",
       "       [ 2,  8],\n",
       "       [ 3,  9],\n",
       "       [ 4, 10],\n",
       "       [ 5, 11],\n",
       "       [ 6, 12]])"
      ]
     },
     "execution_count": 54,
     "metadata": {},
     "output_type": "execute_result"
    }
   ],
   "source": [
    "arrayss.transpose()"
   ]
  },
  {
   "cell_type": "markdown",
   "id": "d1f608e7",
   "metadata": {},
   "source": [
    "## another ways for transpose"
   ]
  },
  {
   "cell_type": "code",
   "execution_count": 56,
   "id": "56557bc3",
   "metadata": {},
   "outputs": [
    {
     "data": {
      "text/plain": [
       "array([[ 1,  7],\n",
       "       [ 2,  8],\n",
       "       [ 3,  9],\n",
       "       [ 4, 10],\n",
       "       [ 5, 11],\n",
       "       [ 6, 12]])"
      ]
     },
     "execution_count": 56,
     "metadata": {},
     "output_type": "execute_result"
    }
   ],
   "source": [
    "arrayss.T"
   ]
  },
  {
   "cell_type": "markdown",
   "id": "6615b6d6",
   "metadata": {},
   "source": [
    "# Some mathematical function define in numpy library"
   ]
  },
  {
   "cell_type": "code",
   "execution_count": 61,
   "id": "1621428a",
   "metadata": {},
   "outputs": [
    {
     "name": "stdout",
     "output_type": "stream",
     "text": [
      "[[1 2 3]\n",
      " [4 5 6]\n",
      " [7 8 9]]\n",
      "[[1 2 3]\n",
      " [4 5 6]\n",
      " [7 8 9]]\n"
     ]
    }
   ],
   "source": [
    "arra1 =np.arange(1,10).reshape(3,3)\n",
    "arra2= np.arange(1,10).reshape(3,3)\n",
    "print(arra1)\n",
    "print(arra2)"
   ]
  },
  {
   "cell_type": "markdown",
   "id": "393ec140",
   "metadata": {},
   "source": [
    "## addition operator element by element"
   ]
  },
  {
   "cell_type": "code",
   "execution_count": 63,
   "id": "6810e207",
   "metadata": {},
   "outputs": [
    {
     "data": {
      "text/plain": [
       "array([[ 2,  4,  6],\n",
       "       [ 8, 10, 12],\n",
       "       [14, 16, 18]])"
      ]
     },
     "execution_count": 63,
     "metadata": {},
     "output_type": "execute_result"
    }
   ],
   "source": [
    "arra1 + arra2"
   ]
  },
  {
   "cell_type": "code",
   "execution_count": 64,
   "id": "0f4912c8",
   "metadata": {},
   "outputs": [
    {
     "data": {
      "text/plain": [
       "array([[ 2,  4,  6],\n",
       "       [ 8, 10, 12],\n",
       "       [14, 16, 18]])"
      ]
     },
     "execution_count": 64,
     "metadata": {},
     "output_type": "execute_result"
    }
   ],
   "source": [
    "np.add(arra1,arra2)\n"
   ]
  },
  {
   "cell_type": "markdown",
   "id": "aa37f294",
   "metadata": {},
   "source": [
    "# also substration operator` "
   ]
  },
  {
   "cell_type": "code",
   "execution_count": 65,
   "id": "0facfced",
   "metadata": {},
   "outputs": [
    {
     "data": {
      "text/plain": [
       "array([[0, 0, 0],\n",
       "       [0, 0, 0],\n",
       "       [0, 0, 0]])"
      ]
     },
     "execution_count": 65,
     "metadata": {},
     "output_type": "execute_result"
    }
   ],
   "source": [
    "arra1 - arra2"
   ]
  },
  {
   "cell_type": "markdown",
   "id": "72dc7e3c",
   "metadata": {},
   "source": [
    "# builtin function for it"
   ]
  },
  {
   "cell_type": "code",
   "execution_count": 66,
   "id": "67b3354e",
   "metadata": {},
   "outputs": [
    {
     "data": {
      "text/plain": [
       "array([[0, 0, 0],\n",
       "       [0, 0, 0],\n",
       "       [0, 0, 0]])"
      ]
     },
     "execution_count": 66,
     "metadata": {},
     "output_type": "execute_result"
    }
   ],
   "source": [
    "np.subtract(arra1,arra2)"
   ]
  },
  {
   "cell_type": "markdown",
   "id": "4643f453",
   "metadata": {},
   "source": [
    "## for multiplication element by element using * Operator"
   ]
  },
  {
   "cell_type": "code",
   "execution_count": 67,
   "id": "31b1e1c8",
   "metadata": {},
   "outputs": [
    {
     "data": {
      "text/plain": [
       "array([[ 1,  4,  9],\n",
       "       [16, 25, 36],\n",
       "       [49, 64, 81]])"
      ]
     },
     "execution_count": 67,
     "metadata": {},
     "output_type": "execute_result"
    }
   ],
   "source": [
    "arra1 * arra2"
   ]
  },
  {
   "cell_type": "markdown",
   "id": "d47bcca3",
   "metadata": {},
   "source": [
    "## using builtin function"
   ]
  },
  {
   "cell_type": "code",
   "execution_count": 68,
   "id": "58e0f737",
   "metadata": {},
   "outputs": [
    {
     "data": {
      "text/plain": [
       "array([[ 1,  4,  9],\n",
       "       [16, 25, 36],\n",
       "       [49, 64, 81]])"
      ]
     },
     "execution_count": 68,
     "metadata": {},
     "output_type": "execute_result"
    }
   ],
   "source": [
    "np.multiply(arra1,arra2)"
   ]
  },
  {
   "cell_type": "markdown",
   "id": "c20c3a33",
   "metadata": {},
   "source": [
    "## division operator / element by element"
   ]
  },
  {
   "cell_type": "code",
   "execution_count": 70,
   "id": "b0ed2028",
   "metadata": {},
   "outputs": [
    {
     "data": {
      "text/plain": [
       "array([[1., 1., 1.],\n",
       "       [1., 1., 1.],\n",
       "       [1., 1., 1.]])"
      ]
     },
     "execution_count": 70,
     "metadata": {},
     "output_type": "execute_result"
    }
   ],
   "source": [
    "arra1 / arra2"
   ]
  },
  {
   "cell_type": "markdown",
   "id": "0565c1a5",
   "metadata": {},
   "source": [
    "## using builtin function"
   ]
  },
  {
   "cell_type": "code",
   "execution_count": 71,
   "id": "c9a7c86e",
   "metadata": {},
   "outputs": [
    {
     "data": {
      "text/plain": [
       "array([[1., 1., 1.],\n",
       "       [1., 1., 1.],\n",
       "       [1., 1., 1.]])"
      ]
     },
     "execution_count": 71,
     "metadata": {},
     "output_type": "execute_result"
    }
   ],
   "source": [
    "np.divide(arra1,arra2)"
   ]
  },
  {
   "cell_type": "markdown",
   "id": "61858458",
   "metadata": {},
   "source": [
    "## treating as an image,matrix rule first row first coloum follow"
   ]
  },
  {
   "cell_type": "code",
   "execution_count": 73,
   "id": "2948321c",
   "metadata": {},
   "outputs": [
    {
     "data": {
      "text/plain": [
       "array([[ 30,  36,  42],\n",
       "       [ 66,  81,  96],\n",
       "       [102, 126, 150]])"
      ]
     },
     "execution_count": 73,
     "metadata": {},
     "output_type": "execute_result"
    }
   ],
   "source": [
    "arra1 @ arra2b"
   ]
  }
 ],
 "metadata": {
  "kernelspec": {
   "display_name": "Python 3 (ipykernel)",
   "language": "python",
   "name": "python3"
  },
  "language_info": {
   "codemirror_mode": {
    "name": "ipython",
    "version": 3
   },
   "file_extension": ".py",
   "mimetype": "text/x-python",
   "name": "python",
   "nbconvert_exporter": "python",
   "pygments_lexer": "ipython3",
   "version": "3.9.7"
  }
 },
 "nbformat": 4,
 "nbformat_minor": 5
}
