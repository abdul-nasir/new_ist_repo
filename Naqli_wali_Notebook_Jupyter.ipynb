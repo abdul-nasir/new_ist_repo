{
 "cells": [
  {
   "cell_type": "markdown",
   "id": "0e499e5c",
   "metadata": {},
   "source": [
    "# Jupyter code for Markdown"
   ]
  },
  {
   "cell_type": "code",
   "execution_count": 1,
   "id": "7a44bdbb",
   "metadata": {},
   "outputs": [
    {
     "data": {
      "text/plain": [
       "'Python Langauge is learning by Abdul Nasir Afridi from Baba Aamar'"
      ]
     },
     "execution_count": 1,
     "metadata": {},
     "output_type": "execute_result"
    }
   ],
   "source": [
    "nasir=\"Python Langauge is learning by Abdul Nasir Afridi from Baba Aamar\"\n",
    "nasir"
   ]
  },
  {
   "cell_type": "code",
   "execution_count": null,
   "id": "b9b9ab16",
   "metadata": {},
   "outputs": [],
   "source": []
  }
 ],
 "metadata": {
  "kernelspec": {
   "display_name": "Python 3 (ipykernel)",
   "language": "python",
   "name": "python3"
  },
  "language_info": {
   "codemirror_mode": {
    "name": "ipython",
    "version": 3
   },
   "file_extension": ".py",
   "mimetype": "text/x-python",
   "name": "python",
   "nbconvert_exporter": "python",
   "pygments_lexer": "ipython3",
   "version": "3.9.7"
  }
 },
 "nbformat": 4,
 "nbformat_minor": 5
}
