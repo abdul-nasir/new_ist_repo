{
 "cells": [
  {
   "cell_type": "markdown",
   "id": "6d3071c1",
   "metadata": {},
   "source": [
    "# if statement in python"
   ]
  },
  {
   "cell_type": "code",
   "execution_count": 4,
   "id": "31d8a262",
   "metadata": {},
   "outputs": [
    {
     "name": "stdout",
     "output_type": "stream",
     "text": [
      "B is greater than A\n"
     ]
    }
   ],
   "source": [
    "a=20\n",
    "b=30\n",
    "if b>a:\n",
    "    print(\"B is greater than A\")"
   ]
  },
  {
   "cell_type": "markdown",
   "id": "59154801",
   "metadata": {},
   "source": [
    "# elif statement"
   ]
  },
  {
   "cell_type": "code",
   "execution_count": 6,
   "id": "6c32e827",
   "metadata": {},
   "outputs": [
    {
     "name": "stdout",
     "output_type": "stream",
     "text": [
      "A and B are equal\n"
     ]
    }
   ],
   "source": [
    "a=20\n",
    "b=20\n",
    "if b>a:\n",
    "    print(\"B is greater than A\")\n",
    "elif a==b:\n",
    "    print(\"A and B are equal\")"
   ]
  },
  {
   "cell_type": "markdown",
   "id": "8fce5895",
   "metadata": {},
   "source": [
    "# else statement\n"
   ]
  },
  {
   "cell_type": "code",
   "execution_count": 7,
   "id": "6920ad4b",
   "metadata": {},
   "outputs": [
    {
     "name": "stdout",
     "output_type": "stream",
     "text": [
      "A is greater than B\n"
     ]
    }
   ],
   "source": [
    "a=20\n",
    "b=10\n",
    "if b>a:\n",
    "    print(\"B is greater than A\")\n",
    "elif a==b:\n",
    "    print(\"A and B are equal\")\n",
    "    \n",
    "else:\n",
    "    print(\"A is greater than B\")"
   ]
  },
  {
   "cell_type": "markdown",
   "id": "a0d85523",
   "metadata": {},
   "source": [
    "# nested if else statement in python"
   ]
  },
  {
   "cell_type": "code",
   "execution_count": 8,
   "id": "768e78df",
   "metadata": {},
   "outputs": [
    {
     "name": "stdout",
     "output_type": "stream",
     "text": [
      "not above 20\n"
     ]
    }
   ],
   "source": [
    "x=10\n",
    "if x>15:\n",
    "    print(\"x is greater than 10\")\n",
    "if x>20:\n",
    "    print(\"x is greater than 20\")\n",
    "else:\n",
    "    print(\"not above 20\")"
   ]
  },
  {
   "cell_type": "code",
   "execution_count": null,
   "id": "1fb2a162",
   "metadata": {},
   "outputs": [],
   "source": []
  }
 ],
 "metadata": {
  "kernelspec": {
   "display_name": "Python 3 (ipykernel)",
   "language": "python",
   "name": "python3"
  },
  "language_info": {
   "codemirror_mode": {
    "name": "ipython",
    "version": 3
   },
   "file_extension": ".py",
   "mimetype": "text/x-python",
   "name": "python",
   "nbconvert_exporter": "python",
   "pygments_lexer": "ipython3",
   "version": "3.9.7"
  }
 },
 "nbformat": 4,
 "nbformat_minor": 5
}
