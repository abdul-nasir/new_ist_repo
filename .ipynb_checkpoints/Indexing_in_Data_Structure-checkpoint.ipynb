{
 "cells": [
  {
   "cell_type": "markdown",
   "id": "bc4ae118",
   "metadata": {},
   "source": [
    "# Indexing in python"
   ]
  },
  {
   "cell_type": "code",
   "execution_count": 1,
   "id": "0b4f84b8",
   "metadata": {},
   "outputs": [
    {
     "data": {
      "text/plain": [
       "'Samosa Pakora'"
      ]
     },
     "execution_count": 1,
     "metadata": {},
     "output_type": "execute_result"
    }
   ],
   "source": [
    "#make a string variable\n",
    "a= \"Samosa Pakora\"\n",
    "a"
   ]
  },
  {
   "cell_type": "code",
   "execution_count": 2,
   "id": "45edd9a7",
   "metadata": {},
   "outputs": [
    {
     "data": {
      "text/plain": [
       "'S'"
      ]
     },
     "execution_count": 2,
     "metadata": {},
     "output_type": "execute_result"
    }
   ],
   "source": [
    "a[0]"
   ]
  },
  {
   "cell_type": "code",
   "execution_count": 3,
   "id": "716d6221",
   "metadata": {},
   "outputs": [
    {
     "data": {
      "text/plain": [
       "'P'"
      ]
     },
     "execution_count": 3,
     "metadata": {},
     "output_type": "execute_result"
    }
   ],
   "source": [
    "a[7]"
   ]
  },
  {
   "cell_type": "code",
   "execution_count": 4,
   "id": "a212c3f5",
   "metadata": {},
   "outputs": [],
   "source": [
    "fruits=[\"Apple\",\"Banana\",\"Cherry\",\"Graps\"]\n"
   ]
  },
  {
   "cell_type": "code",
   "execution_count": 5,
   "id": "9a33fcc4",
   "metadata": {},
   "outputs": [
    {
     "data": {
      "text/plain": [
       "['Apple', 'Banana', 'Cherry', 'Graps']"
      ]
     },
     "execution_count": 5,
     "metadata": {},
     "output_type": "execute_result"
    }
   ],
   "source": [
    "fruits"
   ]
  },
  {
   "cell_type": "code",
   "execution_count": 6,
   "id": "b451541e",
   "metadata": {},
   "outputs": [
    {
     "name": "stdout",
     "output_type": "stream",
     "text": [
      "['Apple', 'Banana', 'Cherry', 'Graps']\n"
     ]
    }
   ],
   "source": [
    "print(fruits)"
   ]
  },
  {
   "cell_type": "code",
   "execution_count": 7,
   "id": "890da633",
   "metadata": {},
   "outputs": [
    {
     "name": "stdout",
     "output_type": "stream",
     "text": [
      "4\n"
     ]
    }
   ],
   "source": [
    "print(len(fruits))"
   ]
  },
  {
   "cell_type": "code",
   "execution_count": 8,
   "id": "c7447c74",
   "metadata": {},
   "outputs": [
    {
     "name": "stdout",
     "output_type": "stream",
     "text": [
      "['bear', 'dog', 'cat', 'goat', 'lion', 'leopard', 'tiger', 'Garifa']\n",
      "8\n"
     ]
    }
   ],
   "source": [
    "animals=[\"bear\",\"dog\",\"cat\",\"goat\",\"lion\",\"leopard\",\"tiger\",\"Garifa\"]\n",
    "print(animals)\n",
    "print(len(animals))"
   ]
  },
  {
   "cell_type": "code",
   "execution_count": 9,
   "id": "14e7f2ab",
   "metadata": {},
   "outputs": [
    {
     "data": {
      "text/plain": [
       "'goat'"
      ]
     },
     "execution_count": 9,
     "metadata": {},
     "output_type": "execute_result"
    }
   ],
   "source": [
    "animals[3]"
   ]
  },
  {
   "cell_type": "code",
   "execution_count": 10,
   "id": "96e85d02",
   "metadata": {},
   "outputs": [
    {
     "data": {
      "text/plain": [
       "'Garifa'"
      ]
     },
     "execution_count": 10,
     "metadata": {},
     "output_type": "execute_result"
    }
   ],
   "source": [
    "animals[-1]"
   ]
  },
  {
   "cell_type": "code",
   "execution_count": 11,
   "id": "188c1ada",
   "metadata": {},
   "outputs": [
    {
     "data": {
      "text/plain": [
       "'tiger'"
      ]
     },
     "execution_count": 11,
     "metadata": {},
     "output_type": "execute_result"
    }
   ],
   "source": [
    "animals[-2]"
   ]
  },
  {
   "cell_type": "code",
   "execution_count": 12,
   "id": "1510ee59",
   "metadata": {},
   "outputs": [],
   "source": [
    "animals.append(\"sea lion\")\n"
   ]
  },
  {
   "cell_type": "code",
   "execution_count": 13,
   "id": "c6c2d2d5",
   "metadata": {},
   "outputs": [
    {
     "data": {
      "text/plain": [
       "['bear',\n",
       " 'dog',\n",
       " 'cat',\n",
       " 'goat',\n",
       " 'lion',\n",
       " 'leopard',\n",
       " 'tiger',\n",
       " 'Garifa',\n",
       " 'sea lion']"
      ]
     },
     "execution_count": 13,
     "metadata": {},
     "output_type": "execute_result"
    }
   ],
   "source": [
    "animals"
   ]
  },
  {
   "cell_type": "code",
   "execution_count": 14,
   "id": "a52cf6d8",
   "metadata": {},
   "outputs": [
    {
     "data": {
      "text/plain": [
       "'sea lion'"
      ]
     },
     "execution_count": 14,
     "metadata": {},
     "output_type": "execute_result"
    }
   ],
   "source": [
    "animals.pop(-1)"
   ]
  },
  {
   "cell_type": "code",
   "execution_count": 15,
   "id": "64fb006e",
   "metadata": {},
   "outputs": [
    {
     "data": {
      "text/plain": [
       "['bear', 'dog', 'cat', 'goat', 'lion', 'leopard', 'tiger', 'Garifa']"
      ]
     },
     "execution_count": 15,
     "metadata": {},
     "output_type": "execute_result"
    }
   ],
   "source": [
    "animals"
   ]
  },
  {
   "cell_type": "code",
   "execution_count": 16,
   "id": "00132841",
   "metadata": {},
   "outputs": [
    {
     "name": "stdout",
     "output_type": "stream",
     "text": [
      "bear\n",
      "dog\n",
      "cat\n",
      "goat\n",
      "lion\n",
      "leopard\n",
      "tiger\n",
      "Garifa\n"
     ]
    }
   ],
   "source": [
    "for x in animals:\n",
    "    print(x)"
   ]
  },
  {
   "cell_type": "code",
   "execution_count": 17,
   "id": "31b0b61e",
   "metadata": {},
   "outputs": [
    {
     "name": "stdout",
     "output_type": "stream",
     "text": [
      "8\n"
     ]
    }
   ],
   "source": [
    "print(len(animals))"
   ]
  },
  {
   "cell_type": "code",
   "execution_count": 18,
   "id": "09a15d86",
   "metadata": {},
   "outputs": [],
   "source": [
    "animals.clear()"
   ]
  },
  {
   "cell_type": "code",
   "execution_count": 19,
   "id": "37a6bbb5",
   "metadata": {},
   "outputs": [
    {
     "data": {
      "text/plain": [
       "[]"
      ]
     },
     "execution_count": 19,
     "metadata": {},
     "output_type": "execute_result"
    }
   ],
   "source": [
    "animals"
   ]
  },
  {
   "cell_type": "code",
   "execution_count": 20,
   "id": "5e1874ab",
   "metadata": {},
   "outputs": [],
   "source": [
    "animals=[\"bear\",\"dog\",\"cat\",\"goat\",\"lion\",\"leopard\",\"tiger\",\"Garifa\"]"
   ]
  },
  {
   "cell_type": "code",
   "execution_count": 21,
   "id": "4e619bf4",
   "metadata": {},
   "outputs": [
    {
     "data": {
      "text/plain": [
       "['bear', 'dog', 'cat', 'goat', 'lion', 'leopard', 'tiger', 'Garifa']"
      ]
     },
     "execution_count": 21,
     "metadata": {},
     "output_type": "execute_result"
    }
   ],
   "source": [
    "animals"
   ]
  },
  {
   "cell_type": "code",
   "execution_count": 22,
   "id": "f5961c67",
   "metadata": {},
   "outputs": [
    {
     "name": "stdout",
     "output_type": "stream",
     "text": [
      "['bear', 'dog', 'cat', 'goat', 'lion', 'leopard', 'tiger', 'Garifa']\n"
     ]
    }
   ],
   "source": [
    "print(animals)"
   ]
  },
  {
   "cell_type": "code",
   "execution_count": 23,
   "id": "d086bde3",
   "metadata": {},
   "outputs": [
    {
     "name": "stdout",
     "output_type": "stream",
     "text": [
      "['cat', 'goat', 'lion']\n"
     ]
    }
   ],
   "source": [
    "print(animals[2:5])"
   ]
  },
  {
   "cell_type": "code",
   "execution_count": 27,
   "id": "7c11cc5f",
   "metadata": {},
   "outputs": [
    {
     "ename": "AttributeError",
     "evalue": "'list' object has no attribute 'capitalize'",
     "output_type": "error",
     "traceback": [
      "\u001b[1;31m---------------------------------------------------------------------------\u001b[0m",
      "\u001b[1;31mAttributeError\u001b[0m                            Traceback (most recent call last)",
      "\u001b[1;32mC:\\Users\\ABDULN~1\\AppData\\Local\\Temp/ipykernel_11444/4022061133.py\u001b[0m in \u001b[0;36m<module>\u001b[1;34m\u001b[0m\n\u001b[1;32m----> 1\u001b[1;33m \u001b[0manimals\u001b[0m\u001b[1;33m.\u001b[0m\u001b[0mcapitalize\u001b[0m\u001b[1;33m(\u001b[0m\u001b[1;33m)\u001b[0m\u001b[1;33m\u001b[0m\u001b[1;33m\u001b[0m\u001b[0m\n\u001b[0m",
      "\u001b[1;31mAttributeError\u001b[0m: 'list' object has no attribute 'capitalize'"
     ]
    }
   ],
   "source": [
    "animals.capitalize()"
   ]
  },
  {
   "cell_type": "code",
   "execution_count": 33,
   "id": "536b57e0",
   "metadata": {},
   "outputs": [],
   "source": [
    "foods=\"Samosa Birayani\"\n"
   ]
  },
  {
   "cell_type": "markdown",
   "id": "4df06238",
   "metadata": {},
   "source": [
    "## Capatilze() method for a string"
   ]
  },
  {
   "cell_type": "code",
   "execution_count": 34,
   "id": "a638895b",
   "metadata": {},
   "outputs": [
    {
     "data": {
      "text/plain": [
       "'Samosa birayani'"
      ]
     },
     "execution_count": 34,
     "metadata": {},
     "output_type": "execute_result"
    }
   ],
   "source": [
    "foods.capitalize()\n"
   ]
  },
  {
   "cell_type": "markdown",
   "id": "13d5d23b",
   "metadata": {},
   "source": [
    "## replace method for a string"
   ]
  },
  {
   "cell_type": "code",
   "execution_count": 35,
   "id": "2dcb65ba",
   "metadata": {},
   "outputs": [
    {
     "data": {
      "text/plain": [
       "'Samosa Shirayani'"
      ]
     },
     "execution_count": 35,
     "metadata": {},
     "output_type": "execute_result"
    }
   ],
   "source": [
    "foods.replace(\"B\",\"Sh\")"
   ]
  },
  {
   "cell_type": "markdown",
   "id": "abcf20de",
   "metadata": {},
   "source": [
    "## lower method for a string"
   ]
  },
  {
   "cell_type": "code",
   "execution_count": 36,
   "id": "27d162ab",
   "metadata": {},
   "outputs": [
    {
     "data": {
      "text/plain": [
       "'samosa birayani'"
      ]
     },
     "execution_count": 36,
     "metadata": {},
     "output_type": "execute_result"
    }
   ],
   "source": [
    "foods.lower()"
   ]
  },
  {
   "cell_type": "code",
   "execution_count": 40,
   "id": "6ab0e3fa",
   "metadata": {},
   "outputs": [
    {
     "data": {
      "text/plain": [
       "'Mr. abdul nasir afridi Sikandar Khel'"
      ]
     },
     "execution_count": 40,
     "metadata": {},
     "output_type": "execute_result"
    }
   ],
   "source": [
    "#counting a letter in a string\n",
    "name=\"Mr. abdul nasir afridi Sikandar Khel\"\n",
    "name\n"
   ]
  },
  {
   "cell_type": "markdown",
   "id": "4ab7da9f",
   "metadata": {},
   "source": [
    "## count method in string"
   ]
  },
  {
   "cell_type": "code",
   "execution_count": 42,
   "id": "aa260f76",
   "metadata": {},
   "outputs": [
    {
     "data": {
      "text/plain": [
       "5"
      ]
     },
     "execution_count": 42,
     "metadata": {},
     "output_type": "execute_result"
    }
   ],
   "source": [
    "name.count(\"a\")"
   ]
  },
  {
   "cell_type": "markdown",
   "id": "87d740c4",
   "metadata": {},
   "source": [
    "## find index of a string method "
   ]
  },
  {
   "cell_type": "code",
   "execution_count": 46,
   "id": "f04beac3",
   "metadata": {},
   "outputs": [
    {
     "data": {
      "text/plain": [
       "4"
      ]
     },
     "execution_count": 46,
     "metadata": {},
     "output_type": "execute_result"
    }
   ],
   "source": [
    "name.find(\"a\")"
   ]
  },
  {
   "cell_type": "markdown",
   "id": "ffc88de1",
   "metadata": {},
   "source": [
    "## how to split a string "
   ]
  },
  {
   "cell_type": "code",
   "execution_count": 47,
   "id": "a0abe9e5",
   "metadata": {},
   "outputs": [],
   "source": [
    "food=\"i love samosa, chana chat, chowala, biryani and karahi\""
   ]
  },
  {
   "cell_type": "code",
   "execution_count": 48,
   "id": "20e2d860",
   "metadata": {},
   "outputs": [
    {
     "data": {
      "text/plain": [
       "['i love samosa', ' chana chat', ' chowala', ' biryani and karahi']"
      ]
     },
     "execution_count": 48,
     "metadata": {},
     "output_type": "execute_result"
    }
   ],
   "source": [
    "food.split(\",\")"
   ]
  },
  {
   "cell_type": "code",
   "execution_count": null,
   "id": "8871f12b",
   "metadata": {},
   "outputs": [],
   "source": []
  }
 ],
 "metadata": {
  "kernelspec": {
   "display_name": "Python 3 (ipykernel)",
   "language": "python",
   "name": "python3"
  },
  "language_info": {
   "codemirror_mode": {
    "name": "ipython",
    "version": 3
   },
   "file_extension": ".py",
   "mimetype": "text/x-python",
   "name": "python",
   "nbconvert_exporter": "python",
   "pygments_lexer": "ipython3",
   "version": "3.9.7"
  }
 },
 "nbformat": 4,
 "nbformat_minor": 5
}
