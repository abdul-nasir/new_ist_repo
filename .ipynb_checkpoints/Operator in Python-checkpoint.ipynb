{
 "cells": [
  {
   "cell_type": "markdown",
   "id": "74ad2611",
   "metadata": {},
   "source": [
    "# Python Arithematic Operator\n",
    "## Program Example show it"
   ]
  },
  {
   "cell_type": "code",
   "execution_count": 14,
   "id": "a3b71698",
   "metadata": {},
   "outputs": [
    {
     "name": "stdout",
     "output_type": "stream",
     "text": [
      "16\n",
      "15\n",
      "6\n",
      "4.0\n",
      "2\n"
     ]
    }
   ],
   "source": [
    "x=9\n",
    "y=7\n",
    "\n",
    "print(x+y) #Addition Operator\n",
    "\n",
    "x=3\n",
    "y=5\n",
    "\n",
    "print(x*y) #Multiplication Operator\n",
    "\n",
    "x=10\n",
    "y=4\n",
    "\n",
    "print(x-y) #Substraction Operator\n",
    "\n",
    "x=20\n",
    "y=5\n",
    "print(x/y) # Division Operatpr\n",
    "\n",
    "x=90\n",
    "y=8\n",
    "\n",
    "print(x%y) # Modulus Operator"
   ]
  },
  {
   "cell_type": "markdown",
   "id": "cf72c269",
   "metadata": {},
   "source": [
    "# Python Assignment Operator\n",
    "# Shorthand or Arithematic assignment operator"
   ]
  },
  {
   "cell_type": "code",
   "execution_count": 15,
   "id": "faa7f9db",
   "metadata": {},
   "outputs": [
    {
     "name": "stdout",
     "output_type": "stream",
     "text": [
      "Landi Kotal\n",
      "12\n",
      "5\n",
      "40\n",
      "5.0\n",
      "7\n"
     ]
    }
   ],
   "source": [
    "city=\"Landi Kotal\" # Assigment operator\n",
    "print(city)\n",
    "\n",
    "x=9\n",
    "x+=3 # Addition Assignment operato\n",
    "\n",
    "print(x)\n",
    "\n",
    "x=8\n",
    "x-=3 #substraction assignment operator\n",
    "\n",
    "print(x)\n",
    "\n",
    "x=20\n",
    "x*=2 #Multiplication Assignment operator\n",
    "\n",
    "print(x)\n",
    "\n",
    "y=10\n",
    "y/=2  # Division Assignment operator\n",
    "print(y)\n",
    "\n",
    "z=39\n",
    "z%=8 # Modulus or Reminder assignment operator\n",
    "print(z)"
   ]
  },
  {
   "cell_type": "markdown",
   "id": "2aecf49f",
   "metadata": {},
   "source": [
    "# Comparision Operator(>,<,>=,<=,==.!=)"
   ]
  },
  {
   "cell_type": "code",
   "execution_count": 18,
   "id": "02b9a122",
   "metadata": {},
   "outputs": [
    {
     "name": "stdout",
     "output_type": "stream",
     "text": [
      "True\n",
      "True\n",
      "False\n",
      "False\n",
      "False\n"
     ]
    }
   ],
   "source": [
    "#pyhton code which use comparision operator\n",
    "x=20\n",
    "y=20\n",
    "print(x==y) #Comparision Operator ==\n",
    "\n",
    "x=2\n",
    "y=4\n",
    "print(x<y) #Comparision Operator <\n",
    "\n",
    "x=9\n",
    "y=10\n",
    "print(x>y) #Comparision Operator >\n",
    "\n",
    "x=10\n",
    "y=9\n",
    "print(x<=y) #Comparision Operator <=\n",
    "\n",
    "x=20\n",
    "y=21\n",
    "print(x>=y) #Comparision Operator >=\n",
    "\n"
   ]
  },
  {
   "cell_type": "markdown",
   "id": "a9103b6e",
   "metadata": {},
   "source": [
    "# logical Operator"
   ]
  },
  {
   "cell_type": "code",
   "execution_count": 20,
   "id": "aaa13fe6",
   "metadata": {},
   "outputs": [
    {
     "name": "stdout",
     "output_type": "stream",
     "text": [
      "True\n",
      "True\n",
      "False\n"
     ]
    }
   ],
   "source": [
    "x=9\n",
    "print(x >3 and x< 20)\n",
    "#return true as x is greater than 3 and less than 20\n",
    "\n",
    "x=7\n",
    "print(x>3 or x<4)\n",
    "#return true as x is greater than 3 or xis less than 4\n",
    "x=7\n",
    "print(not(x>3 and x<10))\n",
    "#return false is it is true"
   ]
  },
  {
   "cell_type": "code",
   "execution_count": null,
   "id": "157d8993",
   "metadata": {},
   "outputs": [],
   "source": []
  }
 ],
 "metadata": {
  "kernelspec": {
   "display_name": "Python 3 (ipykernel)",
   "language": "python",
   "name": "python3"
  },
  "language_info": {
   "codemirror_mode": {
    "name": "ipython",
    "version": 3
   },
   "file_extension": ".py",
   "mimetype": "text/x-python",
   "name": "python",
   "nbconvert_exporter": "python",
   "pygments_lexer": "ipython3",
   "version": "3.9.7"
  }
 },
 "nbformat": 4,
 "nbformat_minor": 5
}
