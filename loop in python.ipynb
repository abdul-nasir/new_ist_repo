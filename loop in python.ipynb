{
 "cells": [
  {
   "cell_type": "markdown",
   "id": "23edef7d",
   "metadata": {},
   "source": [
    "# while loop in python\n"
   ]
  },
  {
   "cell_type": "code",
   "execution_count": 1,
   "id": "242504ba",
   "metadata": {},
   "outputs": [
    {
     "name": "stdout",
     "output_type": "stream",
     "text": [
      "1\n",
      "2\n",
      "3\n",
      "4\n",
      "5\n",
      "6\n"
     ]
    }
   ],
   "source": [
    "i=1\n",
    "while i<7: \n",
    "    print(i)\n",
    "    i+=1\n",
    "\n",
    "    "
   ]
  },
  {
   "cell_type": "markdown",
   "id": "fd7d1352",
   "metadata": {},
   "source": [
    "# Break statment in loop\n"
   ]
  },
  {
   "cell_type": "code",
   "execution_count": 5,
   "id": "94c7759e",
   "metadata": {},
   "outputs": [
    {
     "name": "stdout",
     "output_type": "stream",
     "text": [
      "1\n",
      "2\n",
      "3\n"
     ]
    }
   ],
   "source": [
    "i=0\n",
    "while i<7: \n",
    "    #print(i)\n",
    "    i+=1\n",
    "    if i== 4:\n",
    "        break\n",
    "    print(i)"
   ]
  },
  {
   "cell_type": "markdown",
   "id": "a576fd93",
   "metadata": {},
   "source": [
    "# continue statement in loop"
   ]
  },
  {
   "cell_type": "code",
   "execution_count": 6,
   "id": "d6490c67",
   "metadata": {},
   "outputs": [
    {
     "name": "stdout",
     "output_type": "stream",
     "text": [
      "1\n",
      "2\n",
      "3\n",
      "5\n",
      "6\n",
      "7\n"
     ]
    }
   ],
   "source": [
    "i=0\n",
    "while i<7: \n",
    "    #print(i)\n",
    "    i+=1\n",
    "    if i== 4:\n",
    "        continue\n",
    "    print(i)"
   ]
  },
  {
   "cell_type": "markdown",
   "id": "355b46db",
   "metadata": {},
   "source": [
    "# for loop in python"
   ]
  },
  {
   "cell_type": "code",
   "execution_count": 7,
   "id": "9f663453",
   "metadata": {},
   "outputs": [
    {
     "name": "stdout",
     "output_type": "stream",
     "text": [
      "apple\n",
      "banana\n",
      "dragen fruit\n",
      "Berry\n",
      "graps\n",
      "Dates\n"
     ]
    }
   ],
   "source": [
    "# for loop\n",
    "fruits=[\"apple\",\"banana\",\"dragen fruit\",\"Berry\",\"graps\",\"Dates\"]\n",
    "for x in fruits:\n",
    "    print(x)"
   ]
  },
  {
   "cell_type": "code",
   "execution_count": 10,
   "id": "d104896e",
   "metadata": {},
   "outputs": [
    {
     "name": "stdout",
     "output_type": "stream",
     "text": [
      "b\n",
      "a\n",
      "n\n",
      "a\n",
      "n\n",
      "a\n"
     ]
    }
   ],
   "source": [
    "for x in \"banana\":\n",
    "    print(x)"
   ]
  },
  {
   "cell_type": "markdown",
   "id": "a9f962fc",
   "metadata": {},
   "source": [
    "# Nested for loops"
   ]
  },
  {
   "cell_type": "code",
   "execution_count": 14,
   "id": "13c78b64",
   "metadata": {},
   "outputs": [
    {
     "name": "stdout",
     "output_type": "stream",
     "text": [
      "red Apple\n",
      "red Banana\n",
      "red Cheery\n",
      "big Apple\n",
      "big Banana\n",
      "big Cheery\n",
      "teasty Apple\n",
      "teasty Banana\n",
      "teasty Cheery\n"
     ]
    }
   ],
   "source": [
    "adj=[\"red\",\"big\",\"teasty\"]\n",
    "fruit=[\"Apple\",\"Banana\",\"Cheery\"]\n",
    "for x in adj:\n",
    "    for y in fruit:\n",
    "     print(x,y)"
   ]
  },
  {
   "cell_type": "code",
   "execution_count": null,
   "id": "e36040ed",
   "metadata": {},
   "outputs": [],
   "source": []
  }
 ],
 "metadata": {
  "kernelspec": {
   "display_name": "Python 3 (ipykernel)",
   "language": "python",
   "name": "python3"
  },
  "language_info": {
   "codemirror_mode": {
    "name": "ipython",
    "version": 3
   },
   "file_extension": ".py",
   "mimetype": "text/x-python",
   "name": "python",
   "nbconvert_exporter": "python",
   "pygments_lexer": "ipython3",
   "version": "3.9.7"
  }
 },
 "nbformat": 4,
 "nbformat_minor": 5
}
