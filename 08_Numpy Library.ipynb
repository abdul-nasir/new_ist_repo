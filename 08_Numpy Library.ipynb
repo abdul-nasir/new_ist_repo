{
 "cells": [
  {
   "cell_type": "markdown",
   "id": "66254a69",
   "metadata": {},
   "source": [
    "# Single Dimension Matrix using numpy library"
   ]
  },
  {
   "cell_type": "code",
   "execution_count": 1,
   "id": "eb21ef18",
   "metadata": {},
   "outputs": [
    {
     "data": {
      "text/plain": [
       "array([5, 6, 7, 8])"
      ]
     },
     "execution_count": 1,
     "metadata": {},
     "output_type": "execute_result"
    }
   ],
   "source": [
    "import numpy as np\n",
    "a=np.array([5,6,7,8])\n",
    "a"
   ]
  },
  {
   "cell_type": "code",
   "execution_count": 2,
   "id": "a5012a6c",
   "metadata": {},
   "outputs": [
    {
     "data": {
      "text/plain": [
       "numpy.ndarray"
      ]
     },
     "execution_count": 2,
     "metadata": {},
     "output_type": "execute_result"
    }
   ],
   "source": [
    "type(a\n",
    "    )"
   ]
  },
  {
   "cell_type": "code",
   "execution_count": 3,
   "id": "bed268ab",
   "metadata": {},
   "outputs": [
    {
     "data": {
      "text/plain": [
       "4"
      ]
     },
     "execution_count": 3,
     "metadata": {},
     "output_type": "execute_result"
    }
   ],
   "source": [
    "len(a)"
   ]
  },
  {
   "cell_type": "code",
   "execution_count": 4,
   "id": "f55c07e1",
   "metadata": {},
   "outputs": [
    {
     "data": {
      "text/plain": [
       "array([5, 6, 7, 8])"
      ]
     },
     "execution_count": 4,
     "metadata": {},
     "output_type": "execute_result"
    }
   ],
   "source": [
    "a[0:]"
   ]
  },
  {
   "cell_type": "markdown",
   "id": "df01b5e3",
   "metadata": {},
   "source": [
    "# 2D array in python using numpy"
   ]
  },
  {
   "cell_type": "code",
   "execution_count": 6,
   "id": "279cceb0",
   "metadata": {},
   "outputs": [
    {
     "data": {
      "text/plain": [
       "array([[2, 3, 4],\n",
       "       [4, 5, 6],\n",
       "       [6, 6, 7]])"
      ]
     },
     "execution_count": 6,
     "metadata": {},
     "output_type": "execute_result"
    }
   ],
   "source": [
    "import numpy as np\n",
    "b=np.array([[2,3,4],[4,5,6],[6,6,7]])\n",
    "b"
   ]
  },
  {
   "cell_type": "code",
   "execution_count": 7,
   "id": "82785729",
   "metadata": {},
   "outputs": [
    {
     "data": {
      "text/plain": [
       "numpy.ndarray"
      ]
     },
     "execution_count": 7,
     "metadata": {},
     "output_type": "execute_result"
    }
   ],
   "source": [
    "type(b)"
   ]
  },
  {
   "cell_type": "code",
   "execution_count": 8,
   "id": "d5a56ad4",
   "metadata": {},
   "outputs": [
    {
     "data": {
      "text/plain": [
       "3"
      ]
     },
     "execution_count": 8,
     "metadata": {},
     "output_type": "execute_result"
    }
   ],
   "source": [
    "len(b)"
   ]
  },
  {
   "cell_type": "code",
   "execution_count": 9,
   "id": "208d84b1",
   "metadata": {},
   "outputs": [
    {
     "data": {
      "text/plain": [
       "array([2, 3, 4])"
      ]
     },
     "execution_count": 9,
     "metadata": {},
     "output_type": "execute_result"
    }
   ],
   "source": [
    "#array([5,5,5])\n",
    "b[0]"
   ]
  },
  {
   "cell_type": "code",
   "execution_count": 10,
   "id": "329e2155",
   "metadata": {},
   "outputs": [
    {
     "data": {
      "text/plain": [
       "array([[2, 3, 4],\n",
       "       [4, 5, 6],\n",
       "       [6, 6, 7]])"
      ]
     },
     "execution_count": 10,
     "metadata": {},
     "output_type": "execute_result"
    }
   ],
   "source": [
    "b[0:\n",
    " ]"
   ]
  },
  {
   "cell_type": "markdown",
   "id": "abc39b55",
   "metadata": {},
   "source": [
    "# m-dimensional array use TensorFlow library used for AI Abd ML"
   ]
  },
  {
   "cell_type": "code",
   "execution_count": 13,
   "id": "97ba9881",
   "metadata": {},
   "outputs": [
    {
     "data": {
      "text/plain": [
       "array([[2, 3, 4],\n",
       "       [4, 5, 6]])"
      ]
     },
     "execution_count": 13,
     "metadata": {},
     "output_type": "execute_result"
    }
   ],
   "source": [
    "c=np.array([[2,3,4],[4,5,6]])\n",
    "c"
   ]
  },
  {
   "cell_type": "code",
   "execution_count": 15,
   "id": "cc823361",
   "metadata": {},
   "outputs": [
    {
     "data": {
      "text/plain": [
       "array([[5, 5, 5],\n",
       "       [5, 5, 5]])"
      ]
     },
     "execution_count": 15,
     "metadata": {},
     "output_type": "execute_result"
    }
   ],
   "source": [
    "d=np.array([[5,5,5],[5,5,5]])\n",
    "d"
   ]
  },
  {
   "cell_type": "markdown",
   "id": "fdc344fe",
   "metadata": {},
   "source": [
    "# Single Dimension Array using numpy"
   ]
  },
  {
   "cell_type": "code",
   "execution_count": 16,
   "id": "a9eb4b5f",
   "metadata": {},
   "outputs": [
    {
     "data": {
      "text/plain": [
       "array([1, 2, 3, 4, 5, 6])"
      ]
     },
     "execution_count": 16,
     "metadata": {},
     "output_type": "execute_result"
    }
   ],
   "source": [
    "a=np.array([1,2,3,4,5,6])\n",
    "a"
   ]
  },
  {
   "cell_type": "markdown",
   "id": "74042721",
   "metadata": {},
   "source": [
    "### Multidimensional Matrix or array or table in python using numpy"
   ]
  },
  {
   "cell_type": "code",
   "execution_count": 17,
   "id": "479b067a",
   "metadata": {},
   "outputs": [
    {
     "data": {
      "text/plain": [
       "array([[1, 2, 3],\n",
       "       [4, 5, 6]])"
      ]
     },
     "execution_count": 17,
     "metadata": {},
     "output_type": "execute_result"
    }
   ],
   "source": [
    "b1=np.array([[1,2,3],[4,5,6]])\n",
    "b1"
   ]
  },
  {
   "cell_type": "code",
   "execution_count": null,
   "id": "abb394d3",
   "metadata": {},
   "outputs": [],
   "source": [
    "# Zero fill single dimensional array using builtin function zeros"
   ]
  },
  {
   "cell_type": "code",
   "execution_count": 18,
   "id": "216c0594",
   "metadata": {},
   "outputs": [
    {
     "data": {
      "text/plain": [
       "array([0., 0.])"
      ]
     },
     "execution_count": 18,
     "metadata": {},
     "output_type": "execute_result"
    }
   ],
   "source": [
    "import numpy as np\n",
    "zerofill=np.zeros(2)\n",
    "zerofill"
   ]
  },
  {
   "cell_type": "code",
   "execution_count": 20,
   "id": "9854cf67",
   "metadata": {},
   "outputs": [
    {
     "data": {
      "text/plain": [
       "array([0., 0.])"
      ]
     },
     "execution_count": 20,
     "metadata": {},
     "output_type": "execute_result"
    }
   ],
   "source": [
    "import numpy as np\n",
    "zerofill=np.zeros(2)\n",
    "zerofill"
   ]
  },
  {
   "cell_type": "markdown",
   "id": "6d0ddf3f",
   "metadata": {},
   "source": [
    "# one fill single dimensional array usimg numpy library"
   ]
  },
  {
   "cell_type": "code",
   "execution_count": 21,
   "id": "a98e42b9",
   "metadata": {},
   "outputs": [
    {
     "data": {
      "text/plain": [
       "array([1., 1., 1.])"
      ]
     },
     "execution_count": 21,
     "metadata": {},
     "output_type": "execute_result"
    }
   ],
   "source": [
    "one=np.ones(3)\n",
    "one"
   ]
  },
  {
   "cell_type": "markdown",
   "id": "b390931a",
   "metadata": {},
   "source": [
    "# empty arrays/matrix using numpy library builtin function empty"
   ]
  },
  {
   "cell_type": "code",
   "execution_count": 22,
   "id": "27674d8f",
   "metadata": {},
   "outputs": [
    {
     "data": {
      "text/plain": [
       "array([1., 1., 1.])"
      ]
     },
     "execution_count": 22,
     "metadata": {},
     "output_type": "execute_result"
    }
   ],
   "source": [
    "emp=np.empty(3)\n",
    "emp"
   ]
  },
  {
   "cell_type": "markdown",
   "id": "9181bbbe",
   "metadata": {},
   "source": [
    "# specific data type array in numpy library\n"
   ]
  },
  {
   "cell_type": "code",
   "execution_count": 24,
   "id": "cfd95cca",
   "metadata": {},
   "outputs": [
    {
     "data": {
      "text/plain": [
       "array([1, 1, 1, 1, 1], dtype=int8)"
      ]
     },
     "execution_count": 24,
     "metadata": {},
     "output_type": "execute_result"
    }
   ],
   "source": [
    "specific=np.ones(5, dtype=np.int8)\n",
    "specific"
   ]
  },
  {
   "cell_type": "code",
   "execution_count": 26,
   "id": "09b5c2d7",
   "metadata": {},
   "outputs": [
    {
     "data": {
      "text/plain": [
       "array([1., 1., 1., 1., 1.])"
      ]
     },
     "execution_count": 26,
     "metadata": {},
     "output_type": "execute_result"
    }
   ],
   "source": [
    "float_array=np.ones(5,dtype=np.float64)\n",
    "float_array"
   ]
  },
  {
   "cell_type": "code",
   "execution_count": 28,
   "id": "2759a7ee",
   "metadata": {},
   "outputs": [
    {
     "data": {
      "text/plain": [
       "array([1., 1., 1., 1., 1.], dtype=float32)"
      ]
     },
     "execution_count": 28,
     "metadata": {},
     "output_type": "execute_result"
    }
   ],
   "source": [
    "float_array=np.ones(5,dtype=np.float32)\n",
    "float_array"
   ]
  },
  {
   "cell_type": "markdown",
   "id": "c4253157",
   "metadata": {},
   "source": [
    "# 2d Matrix or arrays using numpy builtin function"
   ]
  },
  {
   "cell_type": "code",
   "execution_count": 29,
   "id": "a40e7c1c",
   "metadata": {},
   "outputs": [
    {
     "data": {
      "text/plain": [
       "array([[0., 0., 0., 0.],\n",
       "       [0., 0., 0., 0.],\n",
       "       [0., 0., 0., 0.]])"
      ]
     },
     "execution_count": 29,
     "metadata": {},
     "output_type": "execute_result"
    }
   ],
   "source": [
    "twoDA=np.zeros((3,4))\n",
    "twoDA"
   ]
  },
  {
   "cell_type": "code",
   "execution_count": 30,
   "id": "d3a52006",
   "metadata": {},
   "outputs": [
    {
     "data": {
      "text/plain": [
       "array([[1., 1., 1., 1.],\n",
       "       [1., 1., 1., 1.],\n",
       "       [1., 1., 1., 1.],\n",
       "       [1., 1., 1., 1.]])"
      ]
     },
     "execution_count": 30,
     "metadata": {},
     "output_type": "execute_result"
    }
   ],
   "source": [
    "twoDones=np.ones((4,4))\n",
    "twoDones"
   ]
  },
  {
   "cell_type": "code",
   "execution_count": 31,
   "id": "9bb834f7",
   "metadata": {},
   "outputs": [
    {
     "data": {
      "text/plain": [
       "array([[1, 1, 1, 1],\n",
       "       [1, 1, 1, 1],\n",
       "       [1, 1, 1, 1],\n",
       "       [1, 1, 1, 1]], dtype=int8)"
      ]
     },
     "execution_count": 31,
     "metadata": {},
     "output_type": "execute_result"
    }
   ],
   "source": [
    "twoDones=np.ones((4,4), dtype=np.int8)\n",
    "twoDones"
   ]
  },
  {
   "cell_type": "code",
   "execution_count": 33,
   "id": "e762b4fe",
   "metadata": {},
   "outputs": [
    {
     "data": {
      "text/plain": [
       "array([[0, 0, 0, 0],\n",
       "       [0, 0, 0, 0],\n",
       "       [0, 0, 0, 0]], dtype=int8)"
      ]
     },
     "execution_count": 33,
     "metadata": {},
     "output_type": "execute_result"
    }
   ],
   "source": [
    "twoDzero=np.zeros((3,4), dtype=np.int8)\n",
    "twoDzero"
   ]
  },
  {
   "cell_type": "code",
   "execution_count": 34,
   "id": "e27dd0c3",
   "metadata": {},
   "outputs": [
    {
     "data": {
      "text/plain": [
       "array([[0., 0., 0., 0.],\n",
       "       [0., 0., 0., 0.],\n",
       "       [0., 0., 0., 0.]])"
      ]
     },
     "execution_count": 34,
     "metadata": {},
     "output_type": "execute_result"
    }
   ],
   "source": [
    "twoDzero=np.zeros((3,4))\n",
    "twoDzero"
   ]
  },
  {
   "cell_type": "markdown",
   "id": "dd44aff4",
   "metadata": {},
   "source": [
    "# making three dimenisional array"
   ]
  },
  {
   "cell_type": "code",
   "execution_count": 37,
   "id": "e8182f7a",
   "metadata": {},
   "outputs": [
    {
     "data": {
      "text/plain": [
       "array([[[ 0,  1,  2,  3],\n",
       "        [ 4,  5,  6,  7],\n",
       "        [ 8,  9, 10, 11]],\n",
       "\n",
       "       [[12, 13, 14, 15],\n",
       "        [16, 17, 18, 19],\n",
       "        [20, 21, 22, 23]]])"
      ]
     },
     "execution_count": 37,
     "metadata": {},
     "output_type": "execute_result"
    }
   ],
   "source": [
    "threeDarr=np.arange(24).reshape(2, 3, 4)\n",
    "threeDarr"
   ]
  },
  {
   "cell_type": "code",
   "execution_count": 41,
   "id": "b93e225b",
   "metadata": {},
   "outputs": [
    {
     "data": {
      "text/plain": [
       "array([[[ 0,  1,  2,  3],\n",
       "        [ 4,  5,  6,  7],\n",
       "        [ 8,  9, 10, 11]],\n",
       "\n",
       "       [[12, 13, 14, 15],\n",
       "        [16, 17, 18, 19],\n",
       "        [20, 21, 22, 23]]])"
      ]
     },
     "execution_count": 41,
     "metadata": {},
     "output_type": "execute_result"
    }
   ],
   "source": [
    "threeDarr=np.arange(24).reshape(2, 3, 4)\n",
    "threeDarr"
   ]
  }
 ],
 "metadata": {
  "kernelspec": {
   "display_name": "Python 3 (ipykernel)",
   "language": "python",
   "name": "python3"
  },
  "language_info": {
   "codemirror_mode": {
    "name": "ipython",
    "version": 3
   },
   "file_extension": ".py",
   "mimetype": "text/x-python",
   "name": "python",
   "nbconvert_exporter": "python",
   "pygments_lexer": "ipython3",
   "version": "3.9.7"
  }
 },
 "nbformat": 4,
 "nbformat_minor": 5
}
