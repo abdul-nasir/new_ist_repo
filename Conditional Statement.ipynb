{
 "cells": [
  {
   "cell_type": "markdown",
   "id": "c81c94e4",
   "metadata": {},
   "source": [
    "# if statement in python"
   ]
  },
  {
   "cell_type": "code",
   "execution_count": 4,
   "id": "91c43e10",
   "metadata": {},
   "outputs": [
    {
     "name": "stdout",
     "output_type": "stream",
     "text": [
      "B is greater than A\n"
     ]
    }
   ],
   "source": [
    "a=20\n",
    "b=30\n",
    "if b>a:\n",
    "    print(\"B is greater than A\")"
   ]
  },
  {
   "cell_type": "markdown",
   "id": "7474ccb2",
   "metadata": {},
   "source": [
    "# elif statement"
   ]
  },
  {
   "cell_type": "code",
   "execution_count": 6,
   "id": "94813e5d",
   "metadata": {},
   "outputs": [
    {
     "name": "stdout",
     "output_type": "stream",
     "text": [
      "A and B are equal\n"
     ]
    }
   ],
   "source": [
    "a=20\n",
    "b=20\n",
    "if b>a:\n",
    "    print(\"B is greater than A\")\n",
    "elif a==b:\n",
    "    print(\"A and B are equal\")"
   ]
  },
  {
   "cell_type": "markdown",
   "id": "2f40f923",
   "metadata": {},
   "source": [
    "# else statement\n"
   ]
  },
  {
   "cell_type": "code",
   "execution_count": 7,
   "id": "fb6706c3",
   "metadata": {},
   "outputs": [
    {
     "name": "stdout",
     "output_type": "stream",
     "text": [
      "A is greater than B\n"
     ]
    }
   ],
   "source": [
    "a=20\n",
    "b=10\n",
    "if b>a:\n",
    "    print(\"B is greater than A\")\n",
    "elif a==b:\n",
    "    print(\"A and B are equal\")\n",
    "    \n",
    "else:\n",
    "    print(\"A is greater than B\")"
   ]
  },
  {
   "cell_type": "markdown",
   "id": "c723f552",
   "metadata": {},
   "source": [
    "# nested if else statement in python"
   ]
  },
  {
   "cell_type": "code",
   "execution_count": 8,
   "id": "afc50fb0",
   "metadata": {},
   "outputs": [
    {
     "name": "stdout",
     "output_type": "stream",
     "text": [
      "not above 20\n"
     ]
    }
   ],
   "source": [
    "x=10\n",
    "if x>15:\n",
    "    print(\"x is greater than 10\")\n",
    "if x>20:\n",
    "    print(\"x is greater than 20\")\n",
    "else:\n",
    "    print(\"not above 20\")"
   ]
  },
  {
   "cell_type": "code",
   "execution_count": null,
   "id": "07812721",
   "metadata": {},
   "outputs": [],
   "source": []
  }
 ],
 "metadata": {
  "kernelspec": {
   "display_name": "Python 3 (ipykernel)",
   "language": "python",
   "name": "python3"
  },
  "language_info": {
   "codemirror_mode": {
    "name": "ipython",
    "version": 3
   },
   "file_extension": ".py",
   "mimetype": "text/x-python",
   "name": "python",
   "nbconvert_exporter": "python",
   "pygments_lexer": "ipython3",
   "version": "3.9.7"
  }
 },
 "nbformat": 4,
 "nbformat_minor": 5
}
